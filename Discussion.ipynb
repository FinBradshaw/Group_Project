{
 "cells": [
  {
   "cell_type": "markdown",
   "id": "49ad26f7-506e-41a1-9a63-f0442ce3364f",
   "metadata": {},
   "source": [
    "## Discussion"
   ]
  },
  {
   "cell_type": "markdown",
   "id": "e486c017-6ebc-4267-95e4-cf646941e095",
   "metadata": {},
   "source": [
    "### Findings"
   ]
  },
  {
   "cell_type": "markdown",
   "id": "bd9dc8ce-704a-4feb-96ab-cbbb8d7d9ec7",
   "metadata": {},
   "source": [
    "**Age:** The distribution of of played time is relatively even through all ages with some increase within the **8 - 25** years of age range, including outliers;\n",
    "\n",
    "**Experience:** The total amount of hours played is highest for **regular players**, followed by **amateur paleyrs**. However, when considering outliers, the average amount of hours played by amateur players surpasses the average playtime of regulars.\n",
    "\n",
    "**Subscribe:** For all levels of experience, Players Who subscribe to gaming newsleters have higher avergare playtime than non-subscribers. this is specialy true for **amateurs**, **pro** and **regular players**.\n",
    "\n",
    "**Gender**: The vast majority of players is male and when remving outliers, the average time played is higehr is also higher for males.\n",
    "\n",
    "Our Findings condirmed our suspicions regarding the age of the players. However, to our surprise, professional players do not seem to "
   ]
  },
  {
   "cell_type": "markdown",
   "id": "3298fe77-31e0-420a-9312-da3ab6aa6964",
   "metadata": {},
   "source": [
    "### Expectations"
   ]
  },
  {
   "cell_type": "markdown",
   "id": "8a33fc88-45d8-482b-94a0-bc5df74454d1",
   "metadata": {},
   "source": [
    "Before beginning our research, we expected individuals of younger age to be the demographics spending more time playing videogames. We also expected to find if professional players would spend the most time playing. Our Findings condirmed our suspicions regarding the age of the players. However, to our surprise, professional players do not seem to be the first or even the second group of players with who spend the most time playing on average."
   ]
  },
  {
   "cell_type": "markdown",
   "id": "e524a6eb-edcc-451e-82d3-50336871f675",
   "metadata": {},
   "source": [
    "### Implications"
   ]
  },
  {
   "cell_type": "markdown",
   "id": "84d9052b-e8ad-4640-945e-5fd47f535426",
   "metadata": {},
   "source": [
    "Based on our model, player attributes **is useful** to determined the amount of hours played. To make the collection of data efficient and maximaze the de number of hours played it is important to focus recruitment efforts into an specific segment of players. According to our research, it is best to focus on recruiting individuals arround their **twenties** with **regular** and **amateur experience**. Individuals with those experiences who **subscribe to newsletters** presented expressively higer played hours, and for that reason using newsletters as a mean of communication and promotion for future researchs would be a good idea. "
   ]
  },
  {
   "cell_type": "markdown",
   "id": "305b0ff4-e1c4-4765-8b27-4f902f7028ca",
   "metadata": {},
   "source": [
    "### Conclusion"
   ]
  },
  {
   "cell_type": "markdown",
   "id": "d3fc3c74-a3e0-4b60-bb70-7180a6854636",
   "metadata": {},
   "source": [
    "We would like to see more research to understand playing behavior of individuals with professional experience. Based on our research, this category has the fewest outliers and and a relatively even playtime distrubution. \n",
    "\n",
    "Finally, it seems best to aim to recruit **Male** individuals, since they comprise the vast majority of gamers and have a higher avarege play time, when removing the outliers. However, it is not clear why the percent of males is this high. It is possible that the lower attendence of females and other genders be due to external factors not considered in our research, such as biased recruitment. For that reason we did not consider gender in our model, as we believe more research is requried to understand the underlying cause."
   ]
  },
  {
   "cell_type": "code",
   "execution_count": null,
   "id": "acdf9523-c2c0-4c5c-9470-6b7363b4e5ff",
   "metadata": {},
   "outputs": [],
   "source": []
  }
 ],
 "metadata": {
  "kernelspec": {
   "display_name": "R",
   "language": "R",
   "name": "ir"
  },
  "language_info": {
   "codemirror_mode": "r",
   "file_extension": ".r",
   "mimetype": "text/x-r-source",
   "name": "R",
   "pygments_lexer": "r",
   "version": "4.3.3"
  }
 },
 "nbformat": 4,
 "nbformat_minor": 5
}
