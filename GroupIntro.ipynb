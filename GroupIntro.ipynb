{
 "cells": [
  {
   "cell_type": "markdown",
   "id": "9b11ab99-7cbb-4b23-9960-681d5af28f48",
   "metadata": {},
   "source": [
    "# Identifying High-Engagement Player Segments Through Demographic and Behavioral Analysis"
   ]
  },
  {
   "cell_type": "markdown",
   "id": "6a1d7dae-9542-4e49-97a8-b5186f437ec9",
   "metadata": {},
   "source": [
    "**Authors:**  \n",
    "- Kehan Hettiarachchi  \n",
    "- Kenshin Tanaka  \n",
    "- Caio Matos  \n",
    "- Finley Bradshaw  \n",
    "\n",
    "**Date:** April 5, 2025"
   ]
  },
  {
   "cell_type": "markdown",
   "id": "31138413-fc0e-4813-9310-ec32aa8cfc2b",
   "metadata": {},
   "source": [
    "## Introduction\n",
    "\n",
    "Understanding which players contribute the most in-game data is essential for making informed decisions in game design, user retention, and personalized content strategies. This project aims to identify player characteristics that are strongly linked to high engagement, which we measure by total hours played. Engagement is a key performance indicator in gaming; players who spend more time in-game generally provide more interaction data, are more likely to convert to paid services, and can serve as valuable participants in beta testing or early feature releases.\n",
    "\n",
    "The central question guiding this report is:  \n",
    "**Can we use player attributes such as age, experience level and subscription status to predict how many hours a player will play?**\n",
    "\n",
    "We will explore this by utilizing a dataset called `players.csv`, which contains **196 player records** and **seven variables**: `experience`, `subscribe`, `hashedEmail`, `played_hours`, `name`, `gender`, and `age`. This dataset seems to be collected from an online platform and includes both **numeric variables** (such as `played_hours` and `age`) and **categorical fields** (such as `experience`, `subscribe`, and `gender`) that provide insights into player demographics and behavior.\n",
    "\n",
    "\n",
    "### Dataset Overview\n",
    "\n",
    "- **Played hours** is the main target variable, ranging from 0 to 223.1 hours. It has a mean of **5.85** and a median of **0**, which indicates a highly skewed distribution with outliers.\n",
    "\n",
    "- **Participant ages** range from **8 to 50 years**, with a mean of approximately **20.5** and a median of **19**. Two entries are missing from the dataset.\n",
    "\n",
    "- **Experience** is divided into five levels:\n",
    "  - Amateur (32%)\n",
    "  - Beginner (3%)\n",
    "  - Pro (7%)\n",
    "  - Regular (22%)\n",
    "  - Veteran (36%)\n",
    "\n",
    "- **Subscribe** is mostly `TRUE` (~73%), indicating a high subscription rate.\n",
    "\n",
    "- **Gender demographics** include:\n",
    "  - Male (63%)\n",
    "  - Female (19%)\n",
    "  - Non-binary (12%)\n",
    "  - A few minor categories grouped under `\"Other\"`\n",
    "  - Not included in the analysis as there are too many different genders to account for.\n",
    "\n",
    "- `hashedEmail` and `name` serve as **unique identifiers** and are not utilized in the analysis.\n",
    "\n",
    "### Rationale\n",
    "\n",
    "Identifying high-engagement players offers both analytical and business value. From an analytical perspective, understanding how various factors relate to playtime can help optimize predictive models. For business or design teams, knowing who the most active players are can support targeted marketing campaigns, loyalty programs, and content customization.\n",
    "\n",
    "However, there are potential modeling challenges to consider:\n",
    "- **Outliers** in `played_hours`, where many players have recorded 0 hours while a small number play extensively.\n",
    "- **Low-frequency categories** in `experience` and `subscription`, which can compromise the reliability of results for smaller groups.\n",
    "\n",
    "This project utilizes **Jupyter Notebook** to execute the complete analysis pipeline: loading and cleaning data, performing exploratory data analysis (EDA), and applying regression techniques to model playtime based on demographic attributes. Every aspect of this process is designed to be fully reproducible and understandable for both technical and non-technical audiences.\n",
    "\n",
    "By the end of this report, we aim to provide actionable insights and a functioning model that highlights the characteristics of the players who are most engaged with the game. These insights can inform recruiting strategies for data collection, enhance retention efforts, and aid in game personalization initiatives.\n"
   ]
  },
  {
   "cell_type": "markdown",
   "id": "cb3564f3-d5d4-433c-bab4-5275bf68478b",
   "metadata": {},
   "source": [
    "To use the attributes of experience, being subscribed to a related gaming news letter and age to try and predict hours played, we will be using a k-nn regression model. As the attributes do not have an identified linear relationship with hours played, we will be using a k-nn regression model as this model does not need any specific relationship between the data. To be able to use the k-nn regression model, the values in the experience column and the subscribe column were altered. The experience column values have been changed to the according: \n",
    "Beginner = 1 \n",
    "Amateur = 2 \n",
    "Regular = 3 \n",
    "Pro = 4 \n",
    "Veteran = 5 \n",
    "The subscribe column has been changed to the according: \n",
    "False = 1 \n",
    "True = 2 \n",
    "This way we can use these attributes in the k-nn regression model as this model predicts a numeric value and to do this all our predictors need to be a numeric value. "
   ]
  },
  {
   "cell_type": "code",
   "execution_count": 32,
   "id": "820cfb93-8d37-4252-9f50-8e5f3295db72",
   "metadata": {},
   "outputs": [
    {
     "name": "stderr",
     "output_type": "stream",
     "text": [
      "\u001b[1mRows: \u001b[22m\u001b[34m196\u001b[39m \u001b[1mColumns: \u001b[22m\u001b[34m7\u001b[39m\n",
      "\u001b[36m──\u001b[39m \u001b[1mColumn specification\u001b[22m \u001b[36m────────────────────────────────────────────────────────\u001b[39m\n",
      "\u001b[1mDelimiter:\u001b[22m \",\"\n",
      "\u001b[31mchr\u001b[39m (4): experience, hashedEmail, name, gender\n",
      "\u001b[32mdbl\u001b[39m (2): played_hours, Age\n",
      "\u001b[33mlgl\u001b[39m (1): subscribe\n",
      "\n",
      "\u001b[36mℹ\u001b[39m Use `spec()` to retrieve the full column specification for this data.\n",
      "\u001b[36mℹ\u001b[39m Specify the column types or set `show_col_types = FALSE` to quiet this message.\n"
     ]
    },
    {
     "data": {
      "text/html": [
       "<table class=\"dataframe\">\n",
       "<caption>A tibble: 1 × 7</caption>\n",
       "<thead>\n",
       "\t<tr><th scope=col>neighbors</th><th scope=col>.metric</th><th scope=col>.estimator</th><th scope=col>mean</th><th scope=col>n</th><th scope=col>std_err</th><th scope=col>.config</th></tr>\n",
       "\t<tr><th scope=col>&lt;dbl&gt;</th><th scope=col>&lt;chr&gt;</th><th scope=col>&lt;chr&gt;</th><th scope=col>&lt;dbl&gt;</th><th scope=col>&lt;int&gt;</th><th scope=col>&lt;dbl&gt;</th><th scope=col>&lt;chr&gt;</th></tr>\n",
       "</thead>\n",
       "<tbody>\n",
       "\t<tr><td>21</td><td>rmse</td><td>standard</td><td>28.55692</td><td>5</td><td>6.690528</td><td>Preprocessor1_Model05</td></tr>\n",
       "</tbody>\n",
       "</table>\n"
      ],
      "text/latex": [
       "A tibble: 1 × 7\n",
       "\\begin{tabular}{lllllll}\n",
       " neighbors & .metric & .estimator & mean & n & std\\_err & .config\\\\\n",
       " <dbl> & <chr> & <chr> & <dbl> & <int> & <dbl> & <chr>\\\\\n",
       "\\hline\n",
       "\t 21 & rmse & standard & 28.55692 & 5 & 6.690528 & Preprocessor1\\_Model05\\\\\n",
       "\\end{tabular}\n"
      ],
      "text/markdown": [
       "\n",
       "A tibble: 1 × 7\n",
       "\n",
       "| neighbors &lt;dbl&gt; | .metric &lt;chr&gt; | .estimator &lt;chr&gt; | mean &lt;dbl&gt; | n &lt;int&gt; | std_err &lt;dbl&gt; | .config &lt;chr&gt; |\n",
       "|---|---|---|---|---|---|---|\n",
       "| 21 | rmse | standard | 28.55692 | 5 | 6.690528 | Preprocessor1_Model05 |\n",
       "\n"
      ],
      "text/plain": [
       "  neighbors .metric .estimator mean     n std_err  .config              \n",
       "1 21        rmse    standard   28.55692 5 6.690528 Preprocessor1_Model05"
      ]
     },
     "metadata": {},
     "output_type": "display_data"
    }
   ],
   "source": [
    "set.seed(1)\n",
    "library(tidyverse) \n",
    "library(janitor)\n",
    "library(readr) \n",
    "library(dplyr) \n",
    "library(stringr) \n",
    "library(GGally)\n",
    "library(ISLR) \n",
    "library(repr) \n",
    "library(tidymodels)\n",
    "url <- \"https://raw.githubusercontent.com/FinBradshaw/Proposal-Planning/refs/heads/main/players.csv\"\n",
    "players <- read_csv(url)  \n",
    "players <- players |> \n",
    " tibble() |>\n",
    " clean_names() |>\n",
    "filter(!is.na(age)) |> \n",
    "select(experience, subscribe, played_hours, age) |>\n",
    "mutate(experience = recode(experience, Beginner = 1, Amateur = 2, Regular = 3, Pro = 4, Veteran = 5)) |> \n",
    "mutate(subscribe = as.character(subscribe)) |>\n",
    "mutate(subscribe = recode(subscribe, \"TRUE\" = 2, \"FALSE\" = 1))\n",
    "\n",
    "players_split <- initial_split(players, prop = 0.75, strata = played_hours)  \n",
    "players_train <- training(players_split) \n",
    "players_test <- testing(players_split) \n",
    "\n",
    "players_spec <- nearest_neighbor(weight_func = \"rectangular\", neighbors = tune()) |> \n",
    "set_engine(\"kknn\") |> \n",
    "set_mode(\"regression\") \n",
    "\n",
    "players_recipe <- recipe(played_hours ~ experience + subscribe + age, data = players_train) |> \n",
    "step_scale(all_predictors()) |> \n",
    "step_center(all_predictors())  \n",
    "\n",
    "players_vfold <- vfold_cv(players_train, v = 5, strata = played_hours) \n",
    "\n",
    "players_workflow <- workflow() |> \n",
    "add_recipe(players_recipe) |> \n",
    "add_model(players_spec)  \n",
    "\n",
    "gridvals <- tibble(neighbors = seq(from = 1, to = 106, by = 5)) \n",
    "\n",
    "players_results <- players_workflow |> \n",
    "tune_grid(resamples = players_vfold, grid = gridvals) |> \n",
    "collect_metrics() \n",
    "\n",
    "players_min <- players_results |> \n",
    "filter(.metric == \"rmse\") |> \n",
    "slice_min(mean, n = 1) \n",
    "\n",
    "players_min\n",
    "\n",
    "\n",
    "\n",
    "\n",
    "\n",
    "\n",
    "\n",
    "\n",
    "\n"
   ]
  },
  {
   "cell_type": "markdown",
   "id": "87aaf649-fd1d-43c3-994b-3d862205b3c7",
   "metadata": {},
   "source": [
    "As viewed the the minumum mean of the rmse occurs when k = 21. So, we will use k = 21 in our k-nn regression model.  "
   ]
  },
  {
   "cell_type": "code",
   "execution_count": 36,
   "id": "41e98a90-b248-44ab-bf3d-698d195c9113",
   "metadata": {},
   "outputs": [
    {
     "data": {
      "text/html": [
       "<table class=\"dataframe\">\n",
       "<caption>A tibble: 3 × 3</caption>\n",
       "<thead>\n",
       "\t<tr><th scope=col>.metric</th><th scope=col>.estimator</th><th scope=col>.estimate</th></tr>\n",
       "\t<tr><th scope=col>&lt;chr&gt;</th><th scope=col>&lt;chr&gt;</th><th scope=col>&lt;dbl&gt;</th></tr>\n",
       "</thead>\n",
       "<tbody>\n",
       "\t<tr><td>rmse</td><td>standard</td><td>14.40708104</td></tr>\n",
       "\t<tr><td>rsq </td><td>standard</td><td> 0.00233459</td></tr>\n",
       "\t<tr><td>mae </td><td>standard</td><td> 9.08911565</td></tr>\n",
       "</tbody>\n",
       "</table>\n"
      ],
      "text/latex": [
       "A tibble: 3 × 3\n",
       "\\begin{tabular}{lll}\n",
       " .metric & .estimator & .estimate\\\\\n",
       " <chr> & <chr> & <dbl>\\\\\n",
       "\\hline\n",
       "\t rmse & standard & 14.40708104\\\\\n",
       "\t rsq  & standard &  0.00233459\\\\\n",
       "\t mae  & standard &  9.08911565\\\\\n",
       "\\end{tabular}\n"
      ],
      "text/markdown": [
       "\n",
       "A tibble: 3 × 3\n",
       "\n",
       "| .metric &lt;chr&gt; | .estimator &lt;chr&gt; | .estimate &lt;dbl&gt; |\n",
       "|---|---|---|\n",
       "| rmse | standard | 14.40708104 |\n",
       "| rsq  | standard |  0.00233459 |\n",
       "| mae  | standard |  9.08911565 |\n",
       "\n"
      ],
      "text/plain": [
       "  .metric .estimator .estimate  \n",
       "1 rmse    standard   14.40708104\n",
       "2 rsq     standard    0.00233459\n",
       "3 mae     standard    9.08911565"
      ]
     },
     "metadata": {},
     "output_type": "display_data"
    }
   ],
   "source": [
    "players_spec_k <- nearest_neighbor(weight_func = \"rectangular\", neighbors = 21) |> \n",
    "set_engine(\"kknn\") |> \n",
    "set_mode(\"regression\") \n",
    "\n",
    "players_fit <- workflow() |>\n",
    "         add_recipe(players_recipe) |>\n",
    "         add_model(players_spec_k) |>\n",
    "         fit(data = players_train)\n",
    "\n",
    "players_summary <- players_fit |>\n",
    "          predict(players_test) |>\n",
    "          bind_cols(players_test) |>\n",
    "          metrics(truth = played_hours, estimate = .pred)\n",
    "players_summary\n"
   ]
  },
  {
   "cell_type": "markdown",
   "id": "d099e232-eac3-4acc-9972-7a786150994e",
   "metadata": {},
   "source": [
    "With our model was able to predict the hours played +/- of 14.4 hours of the actual value. This is quite a bit considering most of the hours played are below 10 hours. "
   ]
  },
  {
   "cell_type": "code",
   "execution_count": 41,
   "id": "5e784969-60c4-4c6f-bd88-e4127cd13bf1",
   "metadata": {
    "scrolled": true
   },
   "outputs": [
    {
     "data": {
      "text/html": [
       "<table class=\"dataframe\">\n",
       "<caption>A tibble: 1 × 1</caption>\n",
       "<thead>\n",
       "\t<tr><th scope=col>.pred</th></tr>\n",
       "\t<tr><th scope=col>&lt;dbl&gt;</th></tr>\n",
       "</thead>\n",
       "<tbody>\n",
       "\t<tr><td>23.28095</td></tr>\n",
       "</tbody>\n",
       "</table>\n"
      ],
      "text/latex": [
       "A tibble: 1 × 1\n",
       "\\begin{tabular}{l}\n",
       " .pred\\\\\n",
       " <dbl>\\\\\n",
       "\\hline\n",
       "\t 23.28095\\\\\n",
       "\\end{tabular}\n"
      ],
      "text/markdown": [
       "\n",
       "A tibble: 1 × 1\n",
       "\n",
       "| .pred &lt;dbl&gt; |\n",
       "|---|\n",
       "| 23.28095 |\n",
       "\n"
      ],
      "text/plain": [
       "  .pred   \n",
       "1 23.28095"
      ]
     },
     "metadata": {},
     "output_type": "display_data"
    },
    {
     "data": {
      "text/html": [
       "<table class=\"dataframe\">\n",
       "<caption>A tibble: 1 × 1</caption>\n",
       "<thead>\n",
       "\t<tr><th scope=col>.pred</th></tr>\n",
       "\t<tr><th scope=col>&lt;dbl&gt;</th></tr>\n",
       "</thead>\n",
       "<tbody>\n",
       "\t<tr><td>1.985714</td></tr>\n",
       "</tbody>\n",
       "</table>\n"
      ],
      "text/latex": [
       "A tibble: 1 × 1\n",
       "\\begin{tabular}{l}\n",
       " .pred\\\\\n",
       " <dbl>\\\\\n",
       "\\hline\n",
       "\t 1.985714\\\\\n",
       "\\end{tabular}\n"
      ],
      "text/markdown": [
       "\n",
       "A tibble: 1 × 1\n",
       "\n",
       "| .pred &lt;dbl&gt; |\n",
       "|---|\n",
       "| 1.985714 |\n",
       "\n"
      ],
      "text/plain": [
       "  .pred   \n",
       "1 1.985714"
      ]
     },
     "metadata": {},
     "output_type": "display_data"
    },
    {
     "data": {
      "text/html": [
       "<table class=\"dataframe\">\n",
       "<caption>A tibble: 1 × 1</caption>\n",
       "<thead>\n",
       "\t<tr><th scope=col>.pred</th></tr>\n",
       "\t<tr><th scope=col>&lt;dbl&gt;</th></tr>\n",
       "</thead>\n",
       "<tbody>\n",
       "\t<tr><td>13.10476</td></tr>\n",
       "</tbody>\n",
       "</table>\n"
      ],
      "text/latex": [
       "A tibble: 1 × 1\n",
       "\\begin{tabular}{l}\n",
       " .pred\\\\\n",
       " <dbl>\\\\\n",
       "\\hline\n",
       "\t 13.10476\\\\\n",
       "\\end{tabular}\n"
      ],
      "text/markdown": [
       "\n",
       "A tibble: 1 × 1\n",
       "\n",
       "| .pred &lt;dbl&gt; |\n",
       "|---|\n",
       "| 13.10476 |\n",
       "\n"
      ],
      "text/plain": [
       "  .pred   \n",
       "1 13.10476"
      ]
     },
     "metadata": {},
     "output_type": "display_data"
    }
   ],
   "source": [
    "new_observation1 <- tibble(experience = 3, subscribe = 2, age = 22) \n",
    "new_observation2 <- tibble(experience = 5, subscribe = 1, age = 45) \n",
    "new_observation3 <- tibble(experience = 2, subscribe = 2, age = 15)\n",
    "predicted_hours <- predict(players_fit, new_observation1) \n",
    "predicted_hours1 <- predict(players_fit, new_observation2) \n",
    "predicted_hours2 <- predict(players_fit, new_observation3) \n",
    "predicted_hours \n",
    "predicted_hours1 \n",
    "predicted_hours2"
   ]
  },
  {
   "cell_type": "markdown",
   "id": "a8fc474b-7070-46a5-80f5-bdf9343547cd",
   "metadata": {},
   "source": [
    "Viewed above, the model does work and indeed can predict how many hours a players may play based on the outlined attributes. The people with the higher hours are people in and around their 20s, who are a regular and are subscribed. People who are old, not subscribed and are not an amateur or regular will tend to have the lowest predicted hours. "
   ]
  }
 ],
 "metadata": {
  "kernelspec": {
   "display_name": "R",
   "language": "R",
   "name": "ir"
  },
  "language_info": {
   "codemirror_mode": "r",
   "file_extension": ".r",
   "mimetype": "text/x-r-source",
   "name": "R",
   "pygments_lexer": "r",
   "version": "4.3.3"
  }
 },
 "nbformat": 4,
 "nbformat_minor": 5
}
