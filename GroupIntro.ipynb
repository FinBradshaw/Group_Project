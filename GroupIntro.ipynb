{
 "cells": [
  {
   "cell_type": "markdown",
   "id": "9b11ab99-7cbb-4b23-9960-681d5af28f48",
   "metadata": {},
   "source": [
    "# Identifying High-Engagement Player Segments Through Demographic and Behavioral Analysis"
   ]
  },
  {
   "cell_type": "markdown",
   "id": "6a1d7dae-9542-4e49-97a8-b5186f437ec9",
   "metadata": {},
   "source": [
    "**Authors:**  \n",
    "- Kehan Hettiarachchi  \n",
    "- Kenshin Tanaka  \n",
    "- Caio Matos  \n",
    "- Finley Bradshaw  \n",
    "\n",
    "**Date:** March 15, 2025"
   ]
  },
  {
   "cell_type": "markdown",
   "id": "31138413-fc0e-4813-9310-ec32aa8cfc2b",
   "metadata": {},
   "source": [
    "## Introduction\n",
    "\n",
    "Understanding which players contribute the most in-game data is essential for making informed decisions in game design, user retention, and personalized content strategies. This project aims to identify player characteristics that are strongly linked to high engagement, which we measure by total hours played. Engagement is a key performance indicator in gaming; players who spend more time in-game generally provide more interaction data, are more likely to convert to paid services, and can serve as valuable participants in beta testing or early feature releases.\n",
    "\n",
    "The central question guiding this report is:  \n",
    "**Can we use player attributes such as age, experience level, gender, and subscription status to predict how many hours a player will play?**\n",
    "\n",
    "We will explore this by utilizing a dataset called `players.csv`, which contains **196 player records** and **seven variables**: `experience`, `subscribe`, `hashedEmail`, `played_hours`, `name`, `gender`, and `age`. This dataset seems to be collected from an online platform and includes both **numeric variables** (such as `played_hours` and `age`) and **categorical fields** (such as `experience`, `subscribe`, and `gender`) that provide insights into player demographics and behavior.\n",
    "\n",
    "\n",
    "### Dataset Overview\n",
    "\n",
    "- **Played hours** is the main target variable, ranging from 0 to 223.1 hours. It has a mean of **5.85** and a median of **0**, which indicates a highly skewed distribution with outliers.\n",
    "\n",
    "- **Participant ages** range from **8 to 50 years**, with a mean of approximately **20.5** and a median of **19**. Two entries are missing from the dataset.\n",
    "\n",
    "- **Experience** is divided into five levels:\n",
    "  - Amateur (32%)\n",
    "  - Beginner (3%)\n",
    "  - Pro (7%)\n",
    "  - Regular (22%)\n",
    "  - Veteran (36%)\n",
    "\n",
    "- **Subscribe** is mostly `TRUE` (~73%), indicating a high subscription rate.\n",
    "\n",
    "- **Gender demographics** include:\n",
    "  - Male (63%)\n",
    "  - Female (19%)\n",
    "  - Non-binary (12%)\n",
    "  - A few minor categories grouped under `\"Other\"`\n",
    "\n",
    "- `hashedEmail` and `name` serve as **unique identifiers** and are not utilized in the analysis.\n",
    "\n",
    "### Rationale\n",
    "\n",
    "Identifying high-engagement players offers both analytical and business value. From an analytical perspective, understanding how various factors relate to playtime can help optimize predictive models. For business or design teams, knowing who the most active players are can support targeted marketing campaigns, loyalty programs, and content customization.\n",
    "\n",
    "However, there are potential modeling challenges to consider:\n",
    "- **Outliers** in `played_hours`, where many players have recorded 0 hours while a small number play extensively.\n",
    "- **Low-frequency categories** in `experience` and `gender`, which can compromise the reliability of results for smaller groups.\n",
    "\n",
    "This project utilizes **Jupyter Notebook** to execute the complete analysis pipeline: loading and cleaning data, performing exploratory data analysis (EDA), and applying regression techniques to model playtime based on demographic attributes. Every aspect of this process is designed to be fully reproducible and understandable for both technical and non-technical audiences.\n",
    "\n",
    "By the end of this report, we aim to provide actionable insights and a functioning model that highlights the characteristics of the players who are most engaged with the game. These insights can inform recruiting strategies for data collection, enhance retention efforts, and aid in game personalization initiatives.\n"
   ]
  },
  {
   "cell_type": "code",
   "execution_count": null,
   "id": "820cfb93-8d37-4252-9f50-8e5f3295db72",
   "metadata": {},
   "outputs": [],
   "source": []
  }
 ],
 "metadata": {
  "kernelspec": {
   "display_name": "R",
   "language": "R",
   "name": "ir"
  },
  "language_info": {
   "codemirror_mode": "r",
   "file_extension": ".r",
   "mimetype": "text/x-r-source",
   "name": "R",
   "pygments_lexer": "r",
   "version": "4.3.3"
  }
 },
 "nbformat": 4,
 "nbformat_minor": 5
}
